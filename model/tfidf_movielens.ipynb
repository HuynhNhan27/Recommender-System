{
    "cells": [
        {
            "cell_type": "markdown",
            "metadata": {},
            "source": [
                "<i>Copyright (c) Recommenders contributors.</i>\n",
                "\n",
                "<i>Licensed under the MIT License.</i>"
            ]
        },
        {
            "cell_type": "markdown",
            "metadata": {},
            "source": [
                "# # TF-IDF Content-Based Recommendation on Movielens Dataset\n",
                "#\n",
                "This notebook demonstrates a content-based recommendation system using the TF-IDF (Term Frequency-Inverse Document Frequency) technique on the Movielens dataset. The system recommends movies to users based on the similarity of their liked movie genres."
            ]
        },
        {
            "cell_type": "code",
            "execution_count": 1,
            "metadata": {
                "scrolled": true
            },
            "outputs": [
                {
                    "name": "stderr",
                    "output_type": "stream",
                    "text": [
                        "/home/han/.conda/envs/recommenders/lib/python3.9/site-packages/tqdm/auto.py:21: TqdmWarning: IProgress not found. Please update jupyter and ipywidgets. See https://ipywidgets.readthedocs.io/en/stable/user_install.html\n",
                        "  from .autonotebook import tqdm as notebook_tqdm\n",
                        "None of PyTorch, TensorFlow >= 2.0, or Flax have been found. Models won't be available and only tokenizers, configuration and file/data utilities can be used.\n"
                    ]
                }
            ],
            "source": [
                "import sys\n",
                "\n",
                "from recommenders.datasets import movielens\n",
                "from recommenders.models.tfidf.tfidf_utils import TfidfRecommender\n",
                "from recommenders.datasets.python_splitters import python_random_split\n",
                "from recommenders.evaluation.python_evaluation import (\n",
                "    map_at_k,\n",
                "    ndcg_at_k,\n",
                "    precision_at_k,\n",
                "    recall_at_k,\n",
                ")\n",
                "import pandas as pd\n",
                "import numpy as np\n",
                "from sklearn.metrics.pairwise import cosine_similarity\n",
                "from sklearn.preprocessing import normalize"
            ]
        },
        {
            "cell_type": "markdown",
            "metadata": {},
            "source": [
                "### Variable for prediction\n",
                "\n",
                "These variables define the number of top recommendations to generate (`TOP_K`), the specific user to generate recommendations for (`user_id`), and the size of the Movielens dataset to use (`MOVIELENS_DATA_SIZE`)."
            ]
        },
        {
            "cell_type": "code",
            "execution_count": 2,
            "metadata": {},
            "outputs": [],
            "source": [
                "# Top k items to recommend\n",
                "TOP_K = 10\n",
                "# User ID to recommend for\n",
                "user_id = 164\n",
                "# Select MovieLens data size: 100k, 1m, 10m, or 20m\n",
                "MOVIELENS_DATA_SIZE = \"100k\"\n",
                "# Load movies dataset into a dataframe"
            ]
        },
        {
            "cell_type": "markdown",
            "metadata": {},
            "source": [
                "### 1. Load the dataset into a dataframe\n",
                "Let's begin by loading the metadata file for the dataset into a Pandas dataframe. We load dataframe for user and items (movies).\n",
                "\n",
                "This cell loads the movie metadata (movie ID, title, genres) into a Pandas DataFrame using the `movielens.load_item_df()` function from the Recommenders library."
            ]
        },
        {
            "cell_type": "code",
            "execution_count": 3,
            "metadata": {},
            "outputs": [
                {
                    "name": "stderr",
                    "output_type": "stream",
                    "text": [
                        "100%|██████████| 4.81k/4.81k [00:05<00:00, 938KB/s]  \n"
                    ]
                }
            ],
            "source": [
                "item_data = movielens.load_item_df(\n",
                "    size=MOVIELENS_DATA_SIZE,\n",
                "    local_cache_path=None,\n",
                "    movie_col=\"movieID\",\n",
                "    title_col=\"title\",\n",
                "    genres_col=\"genres\"\n",
                ")\n",
                "\n",
                "# item_data.head()"
            ]
        },
        {
            "cell_type": "markdown",
            "metadata": {},
            "source": [
                "This cell loads the user interaction data (user ID, item ID, rating) into another Pandas DataFrame."
            ]
        },
        {
            "cell_type": "code",
            "execution_count": 4,
            "metadata": {},
            "outputs": [
                {
                    "name": "stderr",
                    "output_type": "stream",
                    "text": [
                        "100%|██████████| 4.81k/4.81k [00:02<00:00, 2.06kKB/s]\n"
                    ]
                }
            ],
            "source": [
                "# Load user interaction data\n",
                "user_data = movielens.load_pandas_df(\n",
                "    size=MOVIELENS_DATA_SIZE, header=[\"userID\", \"itemID\", \"rating\"]\n",
                ")\n",
                "# user_data.head()"
            ]
        },
        {
            "cell_type": "markdown",
            "metadata": {},
            "source": [
                "The user interaction data is then split into training and testing sets using `python_random_split` to evaluate the model's performance on unseen data."
            ]
        },
        {
            "cell_type": "code",
            "execution_count": 5,
            "metadata": {},
            "outputs": [],
            "source": [
                "# Split user data into train and test sets\n",
                "train_user_data, test_user_data = python_random_split(user_data, 0.75)"
            ]
        },
        {
            "cell_type": "markdown",
            "metadata": {},
            "source": [
                "### 2. Initialize Model\n",
                "Here, we initialize the `TfidfRecommender` model. The `tokenization_method=\"none\"` indicates that we'll treat the genres string as a single document for TF-IDF. The `clean_dataframe` function preprocesses the 'genres' column."
            ]
        },
        {
            "cell_type": "code",
            "execution_count": 6,
            "metadata": {},
            "outputs": [],
            "source": [
                "recommender = TfidfRecommender(\n",
                "    id_col='movieID',\n",
                "    tokenization_method=\"none\"\n",
                ") # Create the recommender object\n",
                "cols_to_clean = ['genres']\n",
                "clean_col = 'cleaned_genres'\n",
                "item_data_clean = recommender.clean_dataframe(\n",
                "    item_data.copy(),\n",
                "    cols_to_clean, clean_col\n",
                ") # Clean dataframe"
            ]
        },
        {
            "cell_type": "markdown",
            "metadata": {},
            "source": [
                "The `tokenize_text` function calculates the TF-IDF matrix based on the cleaned genres. The `fit` function trains the TF-IDF vectorizer."
            ]
        },
        {
            "cell_type": "code",
            "execution_count": 7,
            "metadata": {},
            "outputs": [],
            "source": [
                "tf, vectors_tokenized = recommender.tokenize_text(\n",
                "    item_data_clean,\n",
                "    text_col=clean_col\n",
                ") # Tokenize text\n",
                "# Fit the TF-IDF vectorizer (calculate TF-IDF matrix)\n",
                "recommender.fit(tf, vectors_tokenized)"
            ]
        },
        {
            "cell_type": "markdown",
            "metadata": {},
            "source": [
                "### 3. Recommend Movies\n",
                "This function `recommend_movies_for_user` takes a list of liked movie IDs, seen movie IDs, the movie DataFrame, and the TF-IDF matrix as input. It calculates a user profile based on the average TF-IDF vector of the liked movies and then finds the top `total_recommend` movies with the highest cosine similarity to this user profile, excluding the movies the user has already seen. Recommendations are grouped by similarity for diversity."
            ]
        },
        {
            "cell_type": "code",
            "execution_count": 8,
            "metadata": {},
            "outputs": [],
            "source": [
                "# Recommend movies for a user\n",
                "def recommend_movies_for_user(movie_ids_user_likes, movies_user_seen, df_movies, tfidf_matrix, total_recommend=20):\n",
                "\n",
                "    if not movie_ids_user_likes:\n",
                "        return None\n",
                "    n_per_group=total_recommend // 4\n",
                "\n",
                "    # Map movieID → index\n",
                "    movie_id_to_index = pd.Series(df_movies.index.values, index=df_movies['movieID']).to_dict()\n",
                "    liked_indexes = [movie_id_to_index[mid] for mid in movie_ids_user_likes if mid in movie_id_to_index]\n",
                "\n",
                "    if not liked_indexes:\n",
                "        return None\n",
                "\n",
                "    # Calculate user's vector\n",
                "    liked_vectors = tfidf_matrix[liked_indexes]\n",
                "    user_profile = normalize(np.asarray(liked_vectors.mean(axis=0)))\n",
                "\n",
                "    # Calculate cosine similarity\n",
                "    cos_sim = cosine_similarity(user_profile, tfidf_matrix).flatten()\n",
                "\n",
                "    # Drop watched movies\n",
                "    already_seen = set(movies_user_seen)\n",
                "    candidate_indices = [i for i in range(len(cos_sim)) if df_movies['movieID'].iloc[i] not in already_seen]\n",
                "\n",
                "    if not candidate_indices:\n",
                "        return None\n",
                "\n",
                "    # Group recommendations by similarity\n",
                "    sim_df = df_movies.iloc[candidate_indices][['movieID', 'title', 'genres']].copy() \n",
                "    sim_df['similarity'] = cos_sim[candidate_indices]\n",
                "    sim_df['sim_group'] = sim_df['similarity'].round(2)\n",
                "\n",
                "    # Descending order\n",
                "    sim_df = sim_df.sort_values(by='similarity', ascending=False)\n",
                "    grouped = sim_df.groupby('sim_group', sort=False)\n",
                "    sorted_groups = sorted(grouped.groups.keys(), reverse=True)\n",
                "\n",
                "    # Get top n_per_group recommendations from each group\n",
                "    final_recs = []\n",
                "    for group in sorted_groups:\n",
                "        group_df = grouped.get_group(group)\n",
                "        final_recs.extend(group_df.head(n_per_group).to_dict(orient='records'))\n",
                "        if len(final_recs) >= total_recommend:\n",
                "            break\n",
                "\n",
                "    # Return recommendations\n",
                "    recommended = pd.DataFrame(final_recs).head(total_recommend).reset_index(drop=True)\n",
                "    recommended = recommended.drop(columns=['sim_group'])\n",
                "    return recommended\n"
            ]
        },
        {
            "cell_type": "markdown",
            "metadata": {},
            "source": [
                "The `evaluate_tfidf` function iterates through each unique user in the test set, retrieves their liked and seen items from the training data, generates recommendations using `recommend_movies_for_user`, and then evaluates the recommendation quality using metrics like MAP@K, NDCG@K, Precision@K, and Recall@K. The similarity score from the cosine similarity is used as the prediction score."
            ]
        },
        {
            "cell_type": "code",
            "execution_count": 9,
            "metadata": {},
            "outputs": [],
            "source": [
                "# Evaluate the model\n",
                "def evaluate_tfidf(test_data, item_df, tfidf_rec, top_k=10):\n",
                "    all_predictions = []\n",
                "    for user_id in test_data['userID'].unique():\n",
                "        user_history = test_data[test_data['userID'] == user_id]\n",
                "        liked_items = user_history[user_history['rating'] > 3]['itemID'].tolist()\n",
                "        seen_items = user_history['itemID'].tolist()\n",
                "\n",
                "        if liked_items:\n",
                "            recommendations_df = recommend_movies_for_user(\n",
                "                liked_items,\n",
                "                seen_items,\n",
                "                item_df,\n",
                "                tfidf_rec.tfidf_matrix,\n",
                "                total_recommend=top_k,\n",
                "            )\n",
                "            if recommendations_df is not None and not recommendations_df.empty:\n",
                "                for index, row in recommendations_df.iterrows():\n",
                "                    all_predictions.append({\n",
                "                        'userID': user_id,\n",
                "                        'itemID': row['movieID'],\n",
                "                        'prediction': row['similarity'] # Using similarity as prediction score\n",
                "                    })\n",
                "\n",
                "    predictions_df = pd.DataFrame(all_predictions)\n",
                "    # Prepare the predictions for evaluation\n",
                "    ground_truth = test_data[['userID', 'itemID']].rename(columns={'itemID': 'true_item'})\n",
                "    merged_df = pd.merge(predictions_df, ground_truth, on='userID', how='left')\n",
                "    merged_df = merged_df.dropna(subset=['true_item'])\n",
                "\n",
                "    if not merged_df.empty:\n",
                "        eval_map = map_at_k(test_data, predictions_df, col_prediction=\"prediction\", k=top_k, col_user=\"userID\", col_item=\"itemID\")\n",
                "        eval_ndcg = ndcg_at_k(test_data, predictions_df, col_prediction=\"prediction\", k=top_k, col_user=\"userID\", col_item=\"itemID\")\n",
                "        eval_precision = precision_at_k(test_data, predictions_df, col_prediction=\"prediction\", k=top_k, col_user=\"userID\", col_item=\"itemID\")\n",
                "        eval_recall = recall_at_k(test_data, predictions_df, col_prediction=\"prediction\", k=top_k, col_user=\"userID\", col_item=\"itemID\")\n",
                "\n",
                "        print(\"\\n--- Evaluate TF-IDF Model ---\")\n",
                "        print(f\"MAP@{top_k}:\\t\\t{eval_map:.4f}\")\n",
                "        print(f\"NDCG@{top_k}:\\t\\t{eval_ndcg:.4f}\")\n",
                "        print(f\"Precision@{top_k}:\\t{eval_precision:.4f}\")\n",
                "        print(f\"Recall@{top_k}:\\t\\t{eval_recall:.4f}\")\n",
                "    else:\n",
                "        print(\"Not enough prediction.\")\n"
            ]
        },
        {
            "cell_type": "markdown",
            "metadata": {},
            "source": [
                "### 4. Test and Evaluate\n",
                "This cell demonstrates how to get recommendations for a specific `user_id` (164 in this case). It retrieves the user's liked and seen movies from the test set and then calls `recommend_movies_for_user` to get the top recommendations."
            ]
        },
        {
            "cell_type": "code",
            "execution_count": 10,
            "metadata": {},
            "outputs": [
                {
                    "data": {
                        "text/html": [
                            "<div>\n",
                            "<style scoped>\n",
                            "    .dataframe tbody tr th:only-of-type {\n",
                            "        vertical-align: middle;\n",
                            "    }\n",
                            "\n",
                            "    .dataframe tbody tr th {\n",
                            "        vertical-align: top;\n",
                            "    }\n",
                            "\n",
                            "    .dataframe thead th {\n",
                            "        text-align: right;\n",
                            "    }\n",
                            "</style>\n",
                            "<table border=\"1\" class=\"dataframe\">\n",
                            "  <thead>\n",
                            "    <tr style=\"text-align: right;\">\n",
                            "      <th></th>\n",
                            "      <th>movieID</th>\n",
                            "      <th>title</th>\n",
                            "      <th>genres</th>\n",
                            "      <th>similarity</th>\n",
                            "    </tr>\n",
                            "  </thead>\n",
                            "  <tbody>\n",
                            "    <tr>\n",
                            "      <th>0</th>\n",
                            "      <td>1042</td>\n",
                            "      <td>Just Cause (1995)</td>\n",
                            "      <td>Mystery Thriller</td>\n",
                            "      <td>0.683923</td>\n",
                            "    </tr>\n",
                            "    <tr>\n",
                            "      <th>1</th>\n",
                            "      <td>505</td>\n",
                            "      <td>Dial M for Murder (1954)</td>\n",
                            "      <td>Mystery Thriller</td>\n",
                            "      <td>0.683923</td>\n",
                            "    </tr>\n",
                            "    <tr>\n",
                            "      <th>2</th>\n",
                            "      <td>144</td>\n",
                            "      <td>Die Hard (1988)</td>\n",
                            "      <td>Action Thriller</td>\n",
                            "      <td>0.550679</td>\n",
                            "    </tr>\n",
                            "    <tr>\n",
                            "      <th>3</th>\n",
                            "      <td>265</td>\n",
                            "      <td>Hunt for Red October, The (1990)</td>\n",
                            "      <td>Action Thriller</td>\n",
                            "      <td>0.550679</td>\n",
                            "    </tr>\n",
                            "    <tr>\n",
                            "      <th>4</th>\n",
                            "      <td>348</td>\n",
                            "      <td>Desperate Measures (1998)</td>\n",
                            "      <td>Crime Drama Thriller</td>\n",
                            "      <td>0.517858</td>\n",
                            "    </tr>\n",
                            "    <tr>\n",
                            "      <th>5</th>\n",
                            "      <td>332</td>\n",
                            "      <td>Kiss the Girls (1997)</td>\n",
                            "      <td>Crime Drama Thriller</td>\n",
                            "      <td>0.517858</td>\n",
                            "    </tr>\n",
                            "    <tr>\n",
                            "      <th>6</th>\n",
                            "      <td>1624</td>\n",
                            "      <td>Hush (1998)</td>\n",
                            "      <td>Thriller</td>\n",
                            "      <td>0.509571</td>\n",
                            "    </tr>\n",
                            "    <tr>\n",
                            "      <th>7</th>\n",
                            "      <td>987</td>\n",
                            "      <td>Underworld (1997)</td>\n",
                            "      <td>Thriller</td>\n",
                            "      <td>0.509571</td>\n",
                            "    </tr>\n",
                            "    <tr>\n",
                            "      <th>8</th>\n",
                            "      <td>914</td>\n",
                            "      <td>Wild Things (1998)</td>\n",
                            "      <td>Crime Drama Mystery Thriller</td>\n",
                            "      <td>0.486161</td>\n",
                            "    </tr>\n",
                            "    <tr>\n",
                            "      <th>9</th>\n",
                            "      <td>696</td>\n",
                            "      <td>City Hall (1996)</td>\n",
                            "      <td>Drama Thriller</td>\n",
                            "      <td>0.478265</td>\n",
                            "    </tr>\n",
                            "  </tbody>\n",
                            "</table>\n",
                            "</div>"
                        ],
                        "text/plain": [
                            "   movieID                             title                        genres  \\\n",
                            "0     1042                 Just Cause (1995)              Mystery Thriller   \n",
                            "1      505          Dial M for Murder (1954)              Mystery Thriller   \n",
                            "2      144                   Die Hard (1988)               Action Thriller   \n",
                            "3      265  Hunt for Red October, The (1990)               Action Thriller   \n",
                            "4      348         Desperate Measures (1998)          Crime Drama Thriller   \n",
                            "5      332             Kiss the Girls (1997)          Crime Drama Thriller   \n",
                            "6     1624                       Hush (1998)                      Thriller   \n",
                            "7      987                 Underworld (1997)                      Thriller   \n",
                            "8      914                Wild Things (1998)  Crime Drama Mystery Thriller   \n",
                            "9      696                  City Hall (1996)                Drama Thriller   \n",
                            "\n",
                            "   similarity  \n",
                            "0    0.683923  \n",
                            "1    0.683923  \n",
                            "2    0.550679  \n",
                            "3    0.550679  \n",
                            "4    0.517858  \n",
                            "5    0.517858  \n",
                            "6    0.509571  \n",
                            "7    0.509571  \n",
                            "8    0.486161  \n",
                            "9    0.478265  "
                        ]
                    },
                    "execution_count": 10,
                    "metadata": {},
                    "output_type": "execute_result"
                }
            ],
            "source": [
                "# Predict for a specific user\n",
                "user_id = 164\n",
                "# Get the user history from the test set\n",
                "user_history = test_user_data[test_user_data['userID'] == user_id]\n",
                "liked_items = user_history[user_history['rating'] > 3]['itemID'].tolist()\n",
                "seen_items = user_history['itemID'].tolist()\n",
                "# Recommend movies for the user\n",
                "recommendations_df = recommend_movies_for_user(\n",
                "    liked_items,\n",
                "    seen_items,\n",
                "    item_data_clean,\n",
                "    recommender.tfidf_matrix,\n",
                "    total_recommend=TOP_K,\n",
                ")\n",
                "\n",
                "recommendations_df"
            ]
        },
        {
            "cell_type": "markdown",
            "metadata": {},
            "source": [
                "Finally, the `evaluate_tfidf` function is called to assess the overall performance of the TF-IDF model on the test data."
            ]
        },
        {
            "cell_type": "code",
            "execution_count": 11,
            "metadata": {},
            "outputs": [
                {
                    "name": "stdout",
                    "output_type": "stream",
                    "text": [
                        "\n",
                        "--- Evaluate TF-IDF Model ---\n",
                        "MAP@10:\t\t0.0000\n",
                        "NDCG@10:\t\t0.0000\n",
                        "Precision@10:\t0.0000\n",
                        "Recall@10:\t\t0.0000\n"
                    ]
                }
            ],
            "source": [
                "# Evaluate the model\n",
                "evaluate_tfidf(test_user_data, item_data_clean, recommender, top_k=TOP_K)"
            ]
        }
    ],
    "metadata": {
        "kernelspec": {
            "display_name": "recommenders",
            "language": "python",
            "name": "python3"
        },
        "language_info": {
            "codemirror_mode": {
                "name": "ipython",
                "version": 3
            },
            "file_extension": ".py",
            "mimetype": "text/x-python",
            "name": "python",
            "nbconvert_exporter": "python",
            "pygments_lexer": "ipython3",
            "version": "3.9.21"
        }
    },
    "nbformat": 4,
    "nbformat_minor": 2
}
